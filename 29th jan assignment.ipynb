{
 "cells": [
  {
   "cell_type": "markdown",
   "id": "921b4a92-72ab-4e36-9762-bbad1598c88d",
   "metadata": {},
   "source": [
    "29th Jan Assignment"
   ]
  },
  {
   "cell_type": "markdown",
   "id": "066db4a2-6057-4f36-8d3f-3f00efc373a1",
   "metadata": {},
   "source": [
    "Q.1: Who developed Python Programming Language ?\n",
    "\n",
    "Ans: Guido van Rossum in 20th February, 1991."
   ]
  },
  {
   "cell_type": "markdown",
   "id": "fc1e7894-e6a2-44fd-9a92-bdde97432d10",
   "metadata": {},
   "source": [
    "Q.2: Which type of Programming does Python support ?\n",
    "\n",
    "Ans: Object-oriented, Structured, and Functional Programming."
   ]
  },
  {
   "cell_type": "markdown",
   "id": "31d1d6bb-3c13-4991-9e1b-78d983ad67ca",
   "metadata": {},
   "source": [
    "Q.3: Is python case sensitive when dealing with identifiers ?\n",
    "\n",
    "Ans: Yes, Python is case sensitive language when dealing with identifiers."
   ]
  },
  {
   "cell_type": "markdown",
   "id": "69573eda-c1b4-4d28-8435-6ea6b0acebb6",
   "metadata": {},
   "source": [
    "Q.4: What is the Correct Extension of the Python File ?\n",
    "\n",
    "Ans: .pyz, .pyw, .pyd, .pyo, .pyc, .pyi, .py."
   ]
  },
  {
   "cell_type": "markdown",
   "id": "c62a5f58-4213-4635-93d4-666a336eb46a",
   "metadata": {},
   "source": [
    "Q.5: Is Python code compiled or interpreted ?\n",
    "\n",
    "Ans: Yes, Pyhton code is interpreted language."
   ]
  },
  {
   "cell_type": "markdown",
   "id": "fddd531c-c987-464f-a6fe-daeff400024f",
   "metadata": {},
   "source": [
    "Q.6: Name a few blocks of codes used to define python language ?\n",
    "\n",
    "Ans: A module, a function body, and a class definition is the some blocks of codes for define Python language."
   ]
  },
  {
   "cell_type": "markdown",
   "id": "cccf609c-73e1-4bf2-a5d5-dc4f6fea9fbd",
   "metadata": {},
   "source": [
    "Q.7: State a character used to give single-line comments in python ?\n",
    "\n",
    "Ans: # character before any line of codes."
   ]
  },
  {
   "cell_type": "markdown",
   "id": "129f28c7-2152-466a-8bc6-925f242a38fa",
   "metadata": {},
   "source": [
    "Q.8: Mention function which can help us to find the version of pyhton that we are currently working on  ?\n",
    "\n",
    "Ans: sys.version."
   ]
  },
  {
   "cell_type": "markdown",
   "id": "ad6e60a3-3b98-4ed2-af69-449b2a2471ea",
   "metadata": {},
   "source": [
    "Q.9: Python supports the creation of anonymous functions at runtime, using construct called  -----------\n",
    "\n",
    "Ans: Lambda."
   ]
  },
  {
   "cell_type": "markdown",
   "id": "79a92318-93da-4055-a63a-747387500241",
   "metadata": {},
   "source": [
    "Q.10: What does pip stand for python ?\n",
    "\n",
    "Ans: Preferred installer program."
   ]
  },
  {
   "cell_type": "markdown",
   "id": "03460647-96f3-446f-baf4-3ed76eed55c0",
   "metadata": {},
   "source": [
    "Q.11: Mention a few built-in functions in python ?\n",
    "\n",
    "Ans: type (), find (), count (), append (), list (), extrend (), insert (), etc."
   ]
  },
  {
   "cell_type": "markdown",
   "id": "c1ddba50-db47-41de-9a86-d5098be02d71",
   "metadata": {},
   "source": [
    "Q.12: What is maximum possible length of an identifier in python ?\n",
    "\n",
    "Ans: 79 characters."
   ]
  },
  {
   "cell_type": "markdown",
   "id": "7741384e-f57f-4b9e-a3fe-dc1150f8d9b5",
   "metadata": {},
   "source": [
    "Q.13: What are the benefits of using Python ?\n",
    "\n",
    "Ans: Python programming is a most beneficial in all fields including : Data science, web development, scientific & mathematical computing, finance and trading, system automation and administration, computer graphhics, basic game development, mapping & geography etc."
   ]
  },
  {
   "cell_type": "markdown",
   "id": "4968bbdc-9476-4b2b-bff1-0f4b38702f2f",
   "metadata": {},
   "source": [
    "Q.14: How is memory managed in Pyhton ?\n",
    "\n",
    "Ans: Python private heap space."
   ]
  },
  {
   "cell_type": "markdown",
   "id": "6649ed80-80dc-4f2c-99f0-15b979f4ffea",
   "metadata": {},
   "source": [
    "Q.15: How to install Pyhton on windows and set path variables ?\n",
    "\n",
    "Ans: Step 1: Download Python Setup file.\n",
    "    Step 2: Run Python Installer.\n",
    "    Step 3: Add Python to Windows Path.\n",
    "    Step 4: Verify the path.\n",
    "            Click on the “Environment Variables” option:\n",
    "            Select on the “Path” and click on “Edit”:\n",
    "            Here, you will find that the “Python” path has been added."
   ]
  },
  {
   "cell_type": "code",
   "execution_count": null,
   "id": "d094bb55-3069-4f63-acbc-af680f57d980",
   "metadata": {},
   "outputs": [],
   "source": [
    "Q.16: Is identation required in python ?\n",
    "\n",
    "Ans: "
   ]
  }
 ],
 "metadata": {
  "kernelspec": {
   "display_name": "Python 3 (ipykernel)",
   "language": "python",
   "name": "python3"
  },
  "language_info": {
   "codemirror_mode": {
    "name": "ipython",
    "version": 3
   },
   "file_extension": ".py",
   "mimetype": "text/x-python",
   "name": "python",
   "nbconvert_exporter": "python",
   "pygments_lexer": "ipython3",
   "version": "3.10.8"
  },
  "toc-autonumbering": false
 },
 "nbformat": 4,
 "nbformat_minor": 5
}
