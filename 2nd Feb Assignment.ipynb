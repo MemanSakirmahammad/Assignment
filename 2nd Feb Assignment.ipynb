{
 "cells": [
  {
   "cell_type": "code",
   "execution_count": 1,
   "id": "d82c24c6-a0cd-424b-b220-b871b249fcdc",
   "metadata": {},
   "outputs": [],
   "source": [
    "# 2nd Feb Assignment:"
   ]
  },
  {
   "cell_type": "markdown",
   "id": "bda7cc78-6b61-4010-905e-fa61cbcc3cd5",
   "metadata": {},
   "source": [
    "Q.1 Explain with an example each when to use a for loop and a while loop.\n",
    "\n",
    "Ans.\n",
    "\n",
    "For Loop:\n",
    "--------------\n",
    "--------------\n",
    "\n",
    "A for loop is control flow statement that executes code for a predefined number of iterations. The keyword used in this control flow statement is \"for\". When number of iterations is already known, the for loop is used. \n",
    "\n",
    "The for loop is divided into two parts -\n",
    "\n",
    "Header:\n",
    "-------\n",
    "\n",
    "This part specifies the iteration of the loop. In the header part, the loop variable is also declared, which tells the body which iteration is being executed.\n",
    "\n",
    "Body:\n",
    "------\n",
    "\n",
    "The body part contains the statement executed per iteration.\n",
    "\n",
    "The initialization, condition checking, and iteration statements are written at the beginning of the loop.\n",
    "\n",
    "It is used only when the number of iterations is known beforehand.\n",
    "\n",
    "If the condition\n",
    "is not mentioned in the \"for\" loop, then the loop iterates the infinite number of times.\n",
    "\n",
    "The initialization is done only once, and it is never repeated.\n",
    "\n",
    "The iteration statement is written at the beginning.\n",
    "\n",
    "Hence, it executes once all statements in the loop have been executed.\n"
   ]
  },
  {
   "cell_type": "code",
   "execution_count": 3,
   "id": "2c4eccce-02af-4d75-a164-0cbb2e3fb26f",
   "metadata": {},
   "outputs": [
    {
     "name": "stdout",
     "output_type": "stream",
     "text": [
      "1\n",
      "2\n",
      "3\n",
      "4\n",
      "5\n",
      "20.25\n",
      "20.5\n",
      "sakir\n"
     ]
    }
   ],
   "source": [
    "# For example,\n",
    "    \n",
    "l = [1, 2, 3, 4, 5, 20.25, 20.50, \"sakir\"]\n",
    "\n",
    "for i in l:\n",
    "    print(i)"
   ]
  },
  {
   "cell_type": "markdown",
   "id": "32cf8234-994a-40c6-bd16-50e2007f2b47",
   "metadata": {
    "tags": []
   },
   "source": [
    "Explanation:\n",
    "--------------\n",
    "\n",
    "1. we have assigned a variable i, which is going to be a placeholder for each item in our iterable object.\n",
    "\n",
    "2. In this variable i represents the elements of the given list.\n",
    "\n",
    "3. Then, we print the variable i.\n",
    "\n",
    "Note: This process continues until all the items of the given list have been printed."
   ]
  },
  {
   "cell_type": "markdown",
   "id": "41d6a05f-8694-4e70-85c3-55cc22f0c0ef",
   "metadata": {},
   "source": [
    "While loop: \n",
    "-------------\n",
    "--------------\n",
    "\n",
    "A loop that runs a single statement or a set of statements for given true condition. This loop is represented by the keyword \"while\". When the number of itertions is unknown, a \"while\" loop is used. The statement is repeated until the boolean value is false. Because the condition is tested at the beginning of a while loop, it is also known as the pre-test loop.\n",
    "\n",
    "The initialization and condition checking are done at the beginning of the loop.\n",
    "\n",
    "It is used only when the number of iterations isn't known.\n",
    "\n",
    "If the condition is not mentioned in the \"while\" loop, it results in a compilation error.\n",
    "\n",
    "If the initialization is done when the condition is being checked, then initializaiton occurs every time the loop is iterated through.\n",
    "\n",
    "The iteration statement can be written within any point inside the loop.\n",
    "    "
   ]
  },
  {
   "cell_type": "code",
   "execution_count": 3,
   "id": "57d6055c-b7a6-46b6-8234-229cb356d0b8",
   "metadata": {},
   "outputs": [
    {
     "name": "stdout",
     "output_type": "stream",
     "text": [
      "1\n",
      "2\n",
      "3\n",
      "4\n",
      "5\n"
     ]
    }
   ],
   "source": [
    "# For example,\n",
    "    \n",
    "i = 1\n",
    "\n",
    "while i<=5:\n",
    "    print(i)\n",
    "    i+=1"
   ]
  },
  {
   "cell_type": "markdown",
   "id": "e7f0030d-3b3a-4cf6-b780-c0516c66d7ac",
   "metadata": {},
   "source": [
    "Explanation:\n",
    "------------\n",
    "1. We assigned a value to the variable i = 1.\n",
    "2. In this, the value of x is less than or equal to 5.\n",
    "3. Now it will print the value of i.\n",
    "4. After that, the value of i will be increased by 1 and this process will happen as long as the value of i is less than or equal to 5.\n",
    "\n"
   ]
  },
  {
   "cell_type": "code",
   "execution_count": 1,
   "id": "4f0b6f6f-e8e8-4554-9519-4b6dc6bd527e",
   "metadata": {},
   "outputs": [
    {
     "name": "stdout",
     "output_type": "stream",
     "text": [
      "55\n"
     ]
    }
   ],
   "source": [
    "# Q.2 Write a python program to print the sum and product of the first 10 natural numbers using for and while loop.\n",
    "\n",
    "# Ans.\n",
    "\n",
    "# sum the first 10 natural number Using for Loop:\n",
    "\n",
    "sum = 0\n",
    "\n",
    "for i in range(1, 11):\n",
    "    sum +=i\n",
    "print (sum)"
   ]
  },
  {
   "cell_type": "code",
   "execution_count": 2,
   "id": "788aecf2-c027-4378-b4ab-66f7b81ad7b3",
   "metadata": {},
   "outputs": [
    {
     "name": "stdout",
     "output_type": "stream",
     "text": [
      "55\n"
     ]
    }
   ],
   "source": [
    "# sum the first 10 natural number Using while Loop:\n",
    "\n",
    "i=10\n",
    "sum = 0\n",
    "while i>0:\n",
    "    sum += i\n",
    "    i-=1\n",
    "print(sum)\n",
    "    "
   ]
  },
  {
   "cell_type": "code",
   "execution_count": 3,
   "id": "5a042b15-7bcf-493c-8530-e62513d78967",
   "metadata": {},
   "outputs": [
    {
     "name": "stdout",
     "output_type": "stream",
     "text": [
      "3628800\n"
     ]
    }
   ],
   "source": [
    "# product the first 10 natural number Using For Loop:\n",
    "\n",
    "product = 1\n",
    "for i in range(1,11):\n",
    "    product *=i\n",
    "print(product)"
   ]
  },
  {
   "cell_type": "code",
   "execution_count": 4,
   "id": "14ae4929-b3ea-4d17-8f12-f9f75999a3d3",
   "metadata": {},
   "outputs": [
    {
     "name": "stdout",
     "output_type": "stream",
     "text": [
      "3628800\n"
     ]
    }
   ],
   "source": [
    "# product the first 10 natural number Using while Loop:\n",
    "\n",
    "i = 10\n",
    "product = 1\n",
    "while i>0:\n",
    "    product *=i\n",
    "    i -= 1\n",
    "print(product)"
   ]
  },
  {
   "cell_type": "markdown",
   "id": "0e8194c6-2eaa-4912-a8b5-ff29c05fdd85",
   "metadata": {},
   "source": [
    "Q.2 Create a pyhton program to compute the electricity bill for a household.\n",
    "\n",
    "The per-unit charges in rupees are as follows: For the first 100 units, the user will be charged Rs. 4.5 per unit, for the next 100 units, the user will be charged Rs. 6 per unit, and for the next 100 units, the user will be charged Rs. 10 per unit, after 300 units and above the user will be charged Rs.20 per unit.\n",
    "\n",
    "You are required to take the units of electricity consumed in a month from the user as input.\n",
    "\n",
    "Your program must pass this test case: when the unit of electricity consumed by the user in a month is 310, the total electricity bill should be 22250."
   ]
  },
  {
   "cell_type": "code",
   "execution_count": 21,
   "id": "ea3cdcdd-49dd-4dca-b743-acb5a20e4348",
   "metadata": {},
   "outputs": [
    {
     "name": "stdin",
     "output_type": "stream",
     "text": [
      "Enter your monthly electric consumption 1000\n"
     ]
    },
    {
     "name": "stdout",
     "output_type": "stream",
     "text": [
      "16050.0\n"
     ]
    }
   ],
   "source": [
    "# Ans.\n",
    "\n",
    "unit = int(input(\"Enter your monthly electric consumption\"))\n",
    "\n",
    "if unit <= 100:\n",
    "    print(unit * 4.5)\n",
    "elif unit >100 and unit <=200:\n",
    "    print((100 * 4.5) + (unit - 100) * 6)\n",
    "elif unit > 200 and unit <=300:\n",
    "    print((100 * 4.5) + (100 * 6) + (unit -200) * 10)\n",
    "else :\n",
    "    print((100 * 4.5) + (100 * 6) + (100 * 10) + (unit - 300) * 20)"
   ]
  },
  {
   "cell_type": "markdown",
   "id": "2e16a14d-f125-46b4-97d6-76e3430c20ad",
   "metadata": {},
   "source": [
    "Q.4 Create a list of numbers from 1 to 100. Use for loop and while loop to calculate the cube of each number and if the cube of that number is divisible by 4 or 5 then append that number in a list and print that list."
   ]
  },
  {
   "cell_type": "code",
   "execution_count": 23,
   "id": "4d2483dc-bea7-4265-b3b9-535653380b90",
   "metadata": {},
   "outputs": [
    {
     "name": "stdout",
     "output_type": "stream",
     "text": [
      "[2, 4, 5, 6, 8, 10, 12, 14, 15, 16, 18, 20, 22, 24, 25, 26, 28, 30, 32, 34, 35, 36, 38, 40, 42, 44, 45, 46, 48, 50, 52, 54, 55, 56, 58, 60, 62, 64, 65, 66, 68, 70, 72, 74, 75, 76, 78, 80, 82, 84, 85, 86, 88, 90, 92, 94, 95, 96, 98, 100]\n"
     ]
    }
   ],
   "source": [
    "# Ans.\n",
    "\n",
    "# Using for loop:\n",
    "\n",
    "l1 = list(range(1,101))\n",
    "l2 = []\n",
    "\n",
    "for i in l1:\n",
    "    cube = i ** 3\n",
    "    if cube % 4 == 0 or cube % 5 == 0 :\n",
    "        l2.append(i)\n",
    "print(l2)"
   ]
  },
  {
   "cell_type": "code",
   "execution_count": 24,
   "id": "4391e90e-650e-4f35-9b14-128fa48dfea1",
   "metadata": {},
   "outputs": [
    {
     "name": "stdout",
     "output_type": "stream",
     "text": [
      "[2, 4, 5, 6, 8, 10, 12, 14, 15, 16, 18, 20, 22, 24, 25, 26, 28, 30, 32, 34, 35, 36, 38, 40, 42, 44, 45, 46, 48, 50, 52, 54, 55, 56, 58, 60, 62, 64, 65, 66, 68, 70, 72, 74, 75, 76, 78, 80, 82, 84, 85, 86, 88, 90, 92, 94, 95, 96, 98, 100]\n"
     ]
    }
   ],
   "source": [
    "# Using while loop:\n",
    "\n",
    "l1 = list(range(1,101))\n",
    "l2 = []\n",
    "i = 1\n",
    "\n",
    "while i <= len(l1):\n",
    "    cube = i ** 3\n",
    "    if cube % 4 == 0 or cube % 5 == 0:\n",
    "        l2.append(i)\n",
    "    i+=1\n",
    "print(l2)"
   ]
  },
  {
   "cell_type": "markdown",
   "id": "deb65489-1ae1-455e-9a50-f64d5b746fac",
   "metadata": {},
   "source": [
    "Q.5 Write a program to filter count vowels in the below-given string.\n",
    "\n",
    "string = \"I want to become a data scientist\""
   ]
  },
  {
   "cell_type": "code",
   "execution_count": 13,
   "id": "fd00cb11-d5d2-4557-a5cc-9c7b6b8c44aa",
   "metadata": {},
   "outputs": [
    {
     "name": "stdout",
     "output_type": "stream",
     "text": [
      "Number of vowels is 12\n"
     ]
    }
   ],
   "source": [
    "# Ans.\n",
    "\n",
    "string = \"I want to become a data scientist\"\n",
    "count = 0\n",
    "\n",
    "for i in range(len(string)):\n",
    "    if ((string[i] == 'a') or (string[i] == 'e') or (string[i] == 'i') or (string[i] == 'o')\n",
    " or (string[i] == 'u') or (string[i] == 'A') or (string[i] == 'E') or (string[i] == 'I') or \n",
    "(string[i] == 'O') or (string[i] == 'U')) :\n",
    "        count = count + 1\n",
    "print(\"Number of vowels is\" , count)"
   ]
  },
  {
   "cell_type": "code",
   "execution_count": null,
   "id": "c0b1c25b-7a93-47b3-a252-0f14de01f15c",
   "metadata": {},
   "outputs": [],
   "source": []
  }
 ],
 "metadata": {
  "kernelspec": {
   "display_name": "Python 3 (ipykernel)",
   "language": "python",
   "name": "python3"
  },
  "language_info": {
   "codemirror_mode": {
    "name": "ipython",
    "version": 3
   },
   "file_extension": ".py",
   "mimetype": "text/x-python",
   "name": "python",
   "nbconvert_exporter": "python",
   "pygments_lexer": "ipython3",
   "version": "3.10.8"
  }
 },
 "nbformat": 4,
 "nbformat_minor": 5
}
