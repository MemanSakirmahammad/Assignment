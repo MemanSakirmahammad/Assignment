{
 "cells": [
  {
   "cell_type": "code",
   "execution_count": 1,
   "id": "23fd969f-4d29-4a57-858d-290aad7cd588",
   "metadata": {},
   "outputs": [
    {
     "data": {
      "text/plain": [
       "'Assignment_2'"
      ]
     },
     "execution_count": 1,
     "metadata": {},
     "output_type": "execute_result"
    }
   ],
   "source": [
    "\"Assignment_2\""
   ]
  },
  {
   "cell_type": "code",
   "execution_count": 57,
   "id": "4b9db50c-d224-488e-8bfa-b72c1669a001",
   "metadata": {},
   "outputs": [
    {
     "name": "stdin",
     "output_type": "stream",
     "text": [
      "enter your marks 90\n"
     ]
    },
    {
     "name": "stdout",
     "output_type": "stream",
     "text": [
      "you are a part of 'Grade-B'\n"
     ]
    }
   ],
   "source": [
    "#Q.1: Write a program to accept percentage from the user and display the grade according to following criteria...\n",
    "\n",
    "#Ans:\n",
    "\n",
    "marks = int(input(\"enter your marks\"))\n",
    "if marks <=100 and marks> 90 :\n",
    "    print(\"you are a part of 'Grade-A'\")\n",
    "elif marks >80 and marks<=90:\n",
    "    print(\"you are a part of 'Grade-B'\")\n",
    "elif marks >=60 and marks<=80:\n",
    "    print(\"you are a part of 'Grade-C'\")\n",
    "elif marks <60:\n",
    "    print(\"you are a part of 'Grade-D'\")\n",
    "else :\n",
    "    print(\"Please enter valid marks in range of 1 to 100\")"
   ]
  },
  {
   "cell_type": "code",
   "execution_count": 28,
   "id": "1f3ca10d-49c0-4ba1-a041-6432d00d0bf5",
   "metadata": {},
   "outputs": [
    {
     "name": "stdin",
     "output_type": "stream",
     "text": [
      "enter your cost price of a bike 55\n"
     ]
    },
    {
     "name": "stdout",
     "output_type": "stream",
     "text": [
      "your road tax is '5%'\n"
     ]
    }
   ],
   "source": [
    "#Q.2: Write a program to accept the cost price of a bike and display the road tax to be paid according to the following criteria:\n",
    "\n",
    "#Ans:\n",
    "\n",
    "price = int (input(\"enter your cost price of a bike\"))\n",
    "if price >100000:\n",
    "    print(\"your road tax is '15%'\")\n",
    "elif price >50000 and price <=100000:\n",
    "    print(\"your road tax is '10%'\")\n",
    "else :\n",
    "    print(\"your road tax is '5%'\")\n"
   ]
  },
  {
   "cell_type": "code",
   "execution_count": 63,
   "id": "69339577-1436-4716-9854-014c9b966b1d",
   "metadata": {},
   "outputs": [
    {
     "name": "stdin",
     "output_type": "stream",
     "text": [
      "enter your city name: jaipur\n"
     ]
    },
    {
     "name": "stdout",
     "output_type": "stream",
     "text": [
      "Monument of this city is Jal Mahal\n"
     ]
    }
   ],
   "source": [
    "#Q.3: Accept any city from the user and display monuments of that city.\n",
    "\n",
    "#Ans:\n",
    "\n",
    "city = input(\"enter your city name:\")\n",
    "\n",
    "if city == \"delhi\" or city==\"Delhi\":\n",
    "    print(\"Monument of this city is Red Fort\")\n",
    "elif city == \"agra\" or city==\"Agra\":\n",
    "    print(\"Monument of this city is Taj Mahal\")\n",
    "elif city == \"jaipur\" or city==\"Jaipur\":\n",
    "    print(\"Monument of this city is Jal Mahal\")\n",
    "else :\n",
    "    print(\"enter valid city name\")"
   ]
  },
  {
   "cell_type": "code",
   "execution_count": 67,
   "id": "1fe83fc1-61ee-46dd-953d-9e73e40d5391",
   "metadata": {},
   "outputs": [
    {
     "name": "stdin",
     "output_type": "stream",
     "text": [
      "Enter a Number:  9\n"
     ]
    },
    {
     "name": "stdout",
     "output_type": "stream",
     "text": [
      "9 is divisible by 3. \n"
     ]
    }
   ],
   "source": [
    "#Q.4: Check how many times a given number can be divided by 3 before it is less than or equal to 10.\n",
    "\n",
    "#Ans:\n",
    "\n",
    "n = int(input(\"Enter a Number: \"))\n",
    "if  n <= 10 and n%3 == 0:\n",
    "    print(n, \"is divisible by 3. \")\n",
    "elif  n >= 10 and n%3 == 0:\n",
    "    print(n, \"is divisible by 3 but not less than or equal to 10. \")\n",
    "else:\n",
    "    print(n, \"is not divisible by 3. \")"
   ]
  },
  {
   "cell_type": "code",
   "execution_count": 69,
   "id": "9cf8fce1-42e6-4377-9cb1-540c5e95895c",
   "metadata": {
    "tags": []
   },
   "outputs": [
    {
     "name": "stdout",
     "output_type": "stream",
     "text": [
      "1\n",
      "2\n",
      "3\n",
      "4\n",
      "5\n",
      "6\n",
      "7\n",
      "8\n",
      "9\n",
      "10\n"
     ]
    }
   ],
   "source": [
    "#Q.5:Why and When to Use while Loop in Python give a detailed description with example.\n",
    "\n",
    "#Ans: While Loop in Python is used to run a block code untile a certain  condition is met.For Example,  The while loop is usually used when the number of iterations is unknown.\n",
    "\n",
    "# while condition:\n",
    "    # run code until the condition evaluates to False.\n",
    "\n",
    "# Example:\n",
    "# Program to display numbers from 1 to 100\n",
    "\n",
    "# initialize the variable\n",
    "i = 1\n",
    "n = 10\n",
    "\n",
    "while i <= n:\n",
    "    print (i)\n",
    "    i = i + 1"
   ]
  },
  {
   "cell_type": "code",
   "execution_count": 17,
   "id": "90757975-7cc7-43ef-a06c-fa65588cd971",
   "metadata": {},
   "outputs": [
    {
     "name": "stdin",
     "output_type": "stream",
     "text": [
      "enter your number: 5\n"
     ]
    },
    {
     "name": "stdout",
     "output_type": "stream",
     "text": [
      "*  *  *  *  *  \n",
      "*  *  *  *  *  \n",
      "*  *  *  *  *  \n",
      "*  *  *  *  *  \n",
      "*  *  *  *  *  \n"
     ]
    }
   ],
   "source": [
    "#Q.6: Use nested while loop to print 3 different pattern.\n",
    "\n",
    "#Ans:\n",
    "\n",
    "# Pattern 1:\n",
    "\n",
    "n=int(input(\"enter your number:\"))\n",
    "i=1\n",
    "while i<=n:\n",
    "    j=1\n",
    "    while j<=n:\n",
    "        print(\"* \",end=\" \")\n",
    "        j+=1\n",
    "    i+=1\n",
    "    print()"
   ]
  },
  {
   "cell_type": "code",
   "execution_count": 20,
   "id": "476547d6-3187-4f0c-90e9-444d8a8be715",
   "metadata": {},
   "outputs": [
    {
     "name": "stdin",
     "output_type": "stream",
     "text": [
      "enter your number: 5\n"
     ]
    },
    {
     "name": "stdout",
     "output_type": "stream",
     "text": [
      "*  \n",
      "*  *  \n",
      "*  *  *  \n",
      "*  *  *  *  \n",
      "*  *  *  *  *  \n"
     ]
    }
   ],
   "source": [
    "#Q.6: Use nested while loop to print 3 different pattern.\n",
    "\n",
    "# Pattern 2:\n",
    "\n",
    "n=int(input(\"enter your number:\"))\n",
    "i=1\n",
    "while i<=n:\n",
    "    j=1\n",
    "    while j<=i:\n",
    "        print(\"* \",end=\" \")\n",
    "        j+=1\n",
    "    i+=1\n",
    "    print()"
   ]
  },
  {
   "cell_type": "code",
   "execution_count": 28,
   "id": "2cd9733e-43bf-4863-9174-ad558b90ad28",
   "metadata": {},
   "outputs": [
    {
     "name": "stdin",
     "output_type": "stream",
     "text": [
      "enter your number: 5\n"
     ]
    },
    {
     "name": "stdout",
     "output_type": "stream",
     "text": [
      "*  *  *  *  *  \n",
      "*  *  *  *  \n",
      "*  *  *  \n",
      "*  *  \n",
      "*  \n"
     ]
    }
   ],
   "source": [
    "#Q.6: Use nested while loop to print 3 different pattern.\n",
    "\n",
    "# Pattern 3:\n",
    "\n",
    "n=int(input(\"enter your number:\"))\n",
    "i=1\n",
    "while i<=n:\n",
    "    j=0\n",
    "    while j<=n-i:\n",
    "        print(\"* \",end=\" \")\n",
    "        j+=1\n",
    "    i+=1\n",
    "    print()"
   ]
  },
  {
   "cell_type": "code",
   "execution_count": 29,
   "id": "379cdc77-7484-4a85-ba0d-05cca86f55cf",
   "metadata": {},
   "outputs": [
    {
     "name": "stdout",
     "output_type": "stream",
     "text": [
      "10\n",
      "9\n",
      "8\n",
      "7\n",
      "6\n",
      "5\n",
      "4\n",
      "3\n",
      "2\n",
      "1\n"
     ]
    }
   ],
   "source": [
    "#Q.7: Reverse a while loop to display numbers from 10 to 1:\n",
    "\n",
    "i = 10\n",
    "while i > 0:\n",
    "    print(i)\n",
    "    i-=1"
   ]
  },
  {
   "cell_type": "code",
   "execution_count": 30,
   "id": "c722ff6b-6f20-446b-abbb-584a65f430ed",
   "metadata": {},
   "outputs": [
    {
     "name": "stdout",
     "output_type": "stream",
     "text": [
      "10\n",
      "9\n",
      "8\n",
      "7\n",
      "6\n",
      "5\n",
      "4\n",
      "3\n",
      "2\n",
      "1\n"
     ]
    }
   ],
   "source": [
    "#Q.8: Reverse a for loop to display numbers from 10 to 1:\n",
    "\n",
    "for i in range(10,0,-1):\n",
    "    print(i)"
   ]
  },
  {
   "cell_type": "code",
   "execution_count": null,
   "id": "0ed336a0-ddbd-48f7-8511-e0436958f3b8",
   "metadata": {},
   "outputs": [],
   "source": []
  }
 ],
 "metadata": {
  "kernelspec": {
   "display_name": "Python 3 (ipykernel)",
   "language": "python",
   "name": "python3"
  },
  "language_info": {
   "codemirror_mode": {
    "name": "ipython",
    "version": 3
   },
   "file_extension": ".py",
   "mimetype": "text/x-python",
   "name": "python",
   "nbconvert_exporter": "python",
   "pygments_lexer": "ipython3",
   "version": "3.10.8"
  },
  "toc-autonumbering": true,
  "toc-showcode": false,
  "toc-showmarkdowntxt": false
 },
 "nbformat": 4,
 "nbformat_minor": 5
}
