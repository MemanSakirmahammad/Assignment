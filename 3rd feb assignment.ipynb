{
 "cells": [
  {
   "cell_type": "markdown",
   "id": "e60875a2-b5a2-47ff-8312-648a2a3045d7",
   "metadata": {},
   "source": [
    "3rd Feb Assignment:\n",
    "-------------\n",
    "-------------"
   ]
  },
  {
   "cell_type": "markdown",
   "id": "46cb28bf-1288-449f-9511-25cf7ec6860e",
   "metadata": {},
   "source": [
    "Q.1: Which keyword is used to create a function? Create a function to return a list of odd numbers in the range of 1 to 25."
   ]
  },
  {
   "cell_type": "code",
   "execution_count": 1,
   "id": "60771bd9-5c04-4ee5-a971-0ee338e79714",
   "metadata": {},
   "outputs": [
    {
     "data": {
      "text/plain": [
       "[1, 3, 5, 7, 9, 11, 13, 15, 17, 19, 21, 23, 25]"
      ]
     },
     "execution_count": 1,
     "metadata": {},
     "output_type": "execute_result"
    }
   ],
   "source": [
    "# Ans.:\n",
    "\n",
    "# def keyword is used to create a function.\n",
    "\n",
    "l = []\n",
    "def odd():\n",
    "    for i in range(1,26):\n",
    "        if i % 2 != 0:\n",
    "            l.append(i)\n",
    "    return l\n",
    "odd()\n"
   ]
  },
  {
   "cell_type": "markdown",
   "id": "b08a6221-63ef-4035-be13-8896ce1129eb",
   "metadata": {},
   "source": [
    "Q.2: *args and **kwargs is used in some function ? Create a function each for *args and **kwargs to demonstrate their use."
   ]
  },
  {
   "cell_type": "code",
   "execution_count": 2,
   "id": "6331fe68-bbb2-4d89-9580-2e81fba23cb7",
   "metadata": {},
   "outputs": [
    {
     "data": {
      "text/plain": [
       "(1, 2, 3)"
      ]
     },
     "execution_count": 2,
     "metadata": {},
     "output_type": "execute_result"
    }
   ],
   "source": [
    "# Ans.:\n",
    "\n",
    "# *args is used when we want to put multiple arguments in a function. \n",
    "# It's type and returns tuples.\n",
    "\n",
    "def l1(*args):\n",
    "    return args\n",
    "l1(1,2,3)"
   ]
  },
  {
   "cell_type": "code",
   "execution_count": 3,
   "id": "97864d09-2e13-46ac-a4aa-7a4d8d7237be",
   "metadata": {},
   "outputs": [
    {
     "data": {
      "text/plain": [
       "{}"
      ]
     },
     "execution_count": 3,
     "metadata": {},
     "output_type": "execute_result"
    }
   ],
   "source": [
    "# **kwargs returns dictionary and it is also used when we want to put multiple arguments in a function.\n",
    "\n",
    "def l2(**kwargs):\n",
    "    return kwargs\n",
    "l2()"
   ]
  },
  {
   "cell_type": "markdown",
   "id": "86ec6fa7-cb2f-4186-b5a7-74a30390894e",
   "metadata": {},
   "source": [
    "Q.3: What is iterator in python? Name the method used to initialise the iterator object and the method used for iteration. Use these methods to print the first five elements of the given list [2, 4, 6, 8, 10, 12, 14, 16, 18, 20]."
   ]
  },
  {
   "cell_type": "code",
   "execution_count": 4,
   "id": "b13536e3-5f6e-4ec5-aa85-fd93ff58c0af",
   "metadata": {},
   "outputs": [
    {
     "name": "stdout",
     "output_type": "stream",
     "text": [
      "2\n",
      "4\n",
      "6\n",
      "8\n",
      "10\n"
     ]
    }
   ],
   "source": [
    "# Ans.:\n",
    "\n",
    "# Iterator in python is an object that contains a countable number of values.\n",
    "\n",
    "# iter() method is used to initialize the iterator object.\n",
    "\n",
    "l = [2, 4, 6, 8, 10, 12, 14, 16, 18, 20]\n",
    "a = iter(l)\n",
    "print(next(a))\n",
    "print(next(a))\n",
    "print(next(a))\n",
    "print(next(a))\n",
    "print(next(a))"
   ]
  },
  {
   "cell_type": "markdown",
   "id": "07d5eee1-f28f-4689-81e9-962ff4e300d9",
   "metadata": {},
   "source": [
    "Q.4: What is generator function in python? Why yield keyword is used? Give an example of a generator function."
   ]
  },
  {
   "cell_type": "code",
   "execution_count": 5,
   "id": "5cc2e036-8176-4856-8c4b-b186998c0931",
   "metadata": {},
   "outputs": [
    {
     "name": "stdout",
     "output_type": "stream",
     "text": [
      "0, 2, 4, 6, 8, 10, 12, 14, 16, 18, 20, 22, 24, 26, 28, 30, 32, 34, 36, 38, 40, 42, 44, 46, 48, 50, 52, 54, 56, 58, 60, 62, 64, 66, 68, 70, 72, 74, 76, 78, 80, 82, 84, 86, 88, 90, 92, 94, 96, 98, 100\n"
     ]
    }
   ],
   "source": [
    "# Ans.:\n",
    "\n",
    "# Generator function continously keeps generating outcome without storiing everything into a memory.\n",
    "\n",
    "# Yield keyword is used to create a generator function.\n",
    "\n",
    "# Exaample: Generate Even number between 1 to 100.\n",
    "\n",
    "def even_num(n):\n",
    "    for i in range(n + 1):\n",
    "        if i % 2 == 0:\n",
    "            yield i\n",
    "numbers = []\n",
    "for n in even_num(100):\n",
    "    numbers.append(str(n))\n",
    "print(\", \".join(numbers))\n"
   ]
  },
  {
   "cell_type": "markdown",
   "id": "5a010d2e-fdca-4b96-8a8e-45f3570f6543",
   "metadata": {},
   "source": [
    "Q.5: Create a generator function for prime numbers less than 1000. Use the next() method to print the first 20 prime numbers."
   ]
  },
  {
   "cell_type": "code",
   "execution_count": 6,
   "id": "0d740506-1ea0-42f0-961f-3ecb4abe4e2a",
   "metadata": {},
   "outputs": [
    {
     "name": "stdout",
     "output_type": "stream",
     "text": [
      "1\n",
      "2\n",
      "3\n",
      "5\n",
      "7\n",
      "11\n",
      "13\n",
      "17\n",
      "19\n",
      "23\n",
      "29\n",
      "31\n",
      "37\n",
      "41\n",
      "43\n",
      "47\n",
      "53\n",
      "59\n",
      "61\n",
      "67\n",
      "71\n"
     ]
    }
   ],
   "source": [
    "def prime_number():\n",
    "    for n in range(1,1000):\n",
    "        for i in range(2,n):\n",
    "            if(n%i==0):\n",
    "                break\n",
    "        else:\n",
    "            yield n \n",
    "\n",
    "prime_gen = prime_number()\n",
    "for i in range(21):\n",
    "    print(next(prime_gen))"
   ]
  },
  {
   "cell_type": "markdown",
   "id": "3f0291c4-01e2-44dc-91e1-2cd484038eba",
   "metadata": {},
   "source": [
    "Q.5: Write a python program to print the first 10 fibonacci numbers using while loop."
   ]
  },
  {
   "cell_type": "code",
   "execution_count": 7,
   "id": "e6796d20-9ad1-41a4-bfe3-7fa949009129",
   "metadata": {},
   "outputs": [
    {
     "name": "stdout",
     "output_type": "stream",
     "text": [
      "0\n",
      "1\n",
      "1\n",
      "2\n",
      "3\n",
      "5\n",
      "8\n",
      "13\n",
      "21\n",
      "34\n"
     ]
    }
   ],
   "source": [
    "# Ans.:\n",
    "\n",
    "def fibonacci():\n",
    "    a, b = 0, 1\n",
    "    while True:\n",
    "        yield a\n",
    "        a, b = b, a + b\n",
    "\n",
    "fib = fibonacci()\n",
    "\n",
    "for i in range(10):\n",
    "    print(next(fib))"
   ]
  },
  {
   "cell_type": "markdown",
   "id": "d4bc9fbe-f845-4036-a2de-7f96bc8aa9a1",
   "metadata": {},
   "source": [
    "Q.7: Write a List Comprehension to iterate through the given string: 'pwskills'.\n",
    "\n",
    "Expected output: ['p', 'w', 's', 'k', 'i', 'l', 'l', 's']"
   ]
  },
  {
   "cell_type": "code",
   "execution_count": 8,
   "id": "1adc06b3-a720-4262-81f7-e903879ca7d5",
   "metadata": {},
   "outputs": [
    {
     "data": {
      "text/plain": [
       "['p', 'w', 's', 'k', 'i', 'l', 'l', 's']"
      ]
     },
     "execution_count": 8,
     "metadata": {},
     "output_type": "execute_result"
    }
   ],
   "source": [
    "# Ans.:\n",
    "\n",
    "[i for i in \"pwskills\"]"
   ]
  },
  {
   "cell_type": "markdown",
   "id": "ca322111-64ce-4aff-8293-970d431b7f10",
   "metadata": {},
   "source": [
    "Q.8: Write a python program to check wheather a given number is palindrome or not using a while loop."
   ]
  },
  {
   "cell_type": "code",
   "execution_count": 16,
   "id": "c3785ce8-7748-44c8-991d-976fa7d49ef7",
   "metadata": {},
   "outputs": [
    {
     "name": "stdin",
     "output_type": "stream",
     "text": [
      "Enter a Nnumber: 121\n"
     ]
    },
    {
     "name": "stdout",
     "output_type": "stream",
     "text": [
      "It is a palindrome\n"
     ]
    }
   ],
   "source": [
    "# Ans.:\n",
    "\n",
    "n = int(input(\"Enter a Nnumber:\"))\n",
    "temp = n\n",
    "reversed = 0\n",
    "\n",
    "while (temp>0):\n",
    "    remainder = temp % 10\n",
    "    temp //= 10\n",
    "    \n",
    "    reversed = reversed * 10 + remainder\n",
    "    \n",
    "if  n == reversed:\n",
    "    print(\"It is a palindrome\")\n",
    "else :\n",
    "    print(\"It is not a palindrome\")"
   ]
  },
  {
   "cell_type": "markdown",
   "id": "980c31da-a8ad-4151-9bef-af84ca0ee5a5",
   "metadata": {},
   "source": [
    "Q.9: Write a code to print odd numbers from 1 to 100 using list comprehension.\n",
    "Note: Use a list comprehension to create a list from 1 to 100 and use another list comprehension to filter out odd numbers."
   ]
  },
  {
   "cell_type": "code",
   "execution_count": 10,
   "id": "1b0c693a-3265-4576-bb8d-07e8b72efe6c",
   "metadata": {},
   "outputs": [
    {
     "name": "stdout",
     "output_type": "stream",
     "text": [
      "[1, 2, 3, 4, 5, 6, 7, 8, 9, 10, 11, 12, 13, 14, 15, 16, 17, 18, 19, 20, 21, 22, 23, 24, 25, 26, 27, 28, 29, 30, 31, 32, 33, 34, 35, 36, 37, 38, 39, 40, 41, 42, 43, 44, 45, 46, 47, 48, 49, 50, 51, 52, 53, 54, 55, 56, 57, 58, 59, 60, 61, 62, 63, 64, 65, 66, 67, 68, 69, 70, 71, 72, 73, 74, 75, 76, 77, 78, 79, 80, 81, 82, 83, 84, 85, 86, 87, 88, 89, 90, 91, 92, 93, 94, 95, 96, 97, 98, 99, 100]\n"
     ]
    }
   ],
   "source": [
    "# Print a list from 1 to 100\n",
    "numbers = [i for i in range(1,101)]\n",
    "print(numbers)"
   ]
  },
  {
   "cell_type": "code",
   "execution_count": 12,
   "id": "c60a6ee6-1e88-434d-8637-e1b21ef14fe0",
   "metadata": {},
   "outputs": [
    {
     "name": "stdout",
     "output_type": "stream",
     "text": [
      "[1, 3, 5, 7, 9, 11, 13, 15, 17, 19, 21, 23, 25, 27, 29, 31, 33, 35, 37, 39, 41, 43, 45, 47, 49, 51, 53, 55, 57, 59, 61, 63, 65, 67, 69, 71, 73, 75, 77, 79, 81, 83, 85, 87, 89, 91, 93, 95, 97, 99]\n"
     ]
    }
   ],
   "source": [
    "# Print a list of odd_number from 1 to 100\n",
    "\n",
    "odd_numbers = [i for i in numbers if i%2 != 0]\n",
    "print(odd_numbers)"
   ]
  },
  {
   "cell_type": "code",
   "execution_count": null,
   "id": "043b5252-d659-4663-9910-9c15038efce2",
   "metadata": {},
   "outputs": [],
   "source": []
  }
 ],
 "metadata": {
  "kernelspec": {
   "display_name": "Python 3 (ipykernel)",
   "language": "python",
   "name": "python3"
  },
  "language_info": {
   "codemirror_mode": {
    "name": "ipython",
    "version": 3
   },
   "file_extension": ".py",
   "mimetype": "text/x-python",
   "name": "python",
   "nbconvert_exporter": "python",
   "pygments_lexer": "ipython3",
   "version": "3.10.8"
  }
 },
 "nbformat": 4,
 "nbformat_minor": 5
}
