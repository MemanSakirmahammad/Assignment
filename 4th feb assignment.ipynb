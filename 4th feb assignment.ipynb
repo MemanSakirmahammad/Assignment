{
 "cells": [
  {
   "cell_type": "markdown",
   "id": "461ac979-35c4-4b9e-a209-995b47dd9586",
   "metadata": {},
   "source": [
    "4th feb assignment:\n",
    "-------------------"
   ]
  },
  {
   "cell_type": "markdown",
   "id": "881ced50-f277-4807-809d-d7aba2f3e44b",
   "metadata": {},
   "source": [
    "Q.1: Create a python program to sort the given list of tuples based on integer value using a lambda function.\n",
    "\n",
    "[('Sachin Tendulkar', 34357), ('Ricky Pointing', 27483), ('Jack Kallis', 25534), ('Virat Kohli',24936)]"
   ]
  },
  {
   "cell_type": "code",
   "execution_count": 43,
   "id": "7123c6b1-5f72-466a-889a-5b4eb7031eb6",
   "metadata": {},
   "outputs": [
    {
     "name": "stdout",
     "output_type": "stream",
     "text": [
      "[('Virat Kohli', 24936), ('Jack Kallis', 25534), ('Ricky Pointing', 27483), ('Sachin Tendulkar', 34357)]\n"
     ]
    }
   ],
   "source": [
    "# Ans.:\n",
    "l =[('Sachin Tendulkar', 34357), ('Ricky Pointing', 27483), ('Jack Kallis', 25534), ('Virat Kohli',24936)]\n",
    "\n",
    "sort = sorted(l, key=lambda x: x[1])\n",
    "print(sort)"
   ]
  },
  {
   "cell_type": "markdown",
   "id": "946e7f34-2b26-4690-8405-5198f7cfb60f",
   "metadata": {},
   "source": [
    "Q.2: Write a python program to find the squares of all the numbers in the given list of integers using lambda and map functions.\n",
    "\n",
    "[1,2,3,4,5,6,7,8,9,10]"
   ]
  },
  {
   "cell_type": "code",
   "execution_count": 44,
   "id": "b8ebd19c-b9c1-4264-8a8a-65c51ec60337",
   "metadata": {},
   "outputs": [
    {
     "data": {
      "text/plain": [
       "[1, 4, 9, 16, 25, 36, 49, 64, 81, 100]"
      ]
     },
     "execution_count": 44,
     "metadata": {},
     "output_type": "execute_result"
    }
   ],
   "source": [
    "# Ans.:\n",
    "\n",
    "l1 = [1,2,3,4,5,6,7,8,9,10]\n",
    "\n",
    "list(map(lambda x : x**2, l1))"
   ]
  },
  {
   "cell_type": "markdown",
   "id": "5e1ee44a-5968-4d73-b7b4-0638396d00c7",
   "metadata": {},
   "source": [
    "Q.3: Write a python to convert the given list of integers into a tuple of strings. Use map and lambda functions.\n",
    "\n",
    "Given String: [1,2,3,4,5,6,7,8,9,10]\n",
    "\n",
    "Expected output: ('1', '2', '3', '4', '5', '6', '7', '8', '9', '10')"
   ]
  },
  {
   "cell_type": "code",
   "execution_count": 45,
   "id": "b1b95d72-3209-40e2-b630-67bec65358f3",
   "metadata": {},
   "outputs": [
    {
     "name": "stdout",
     "output_type": "stream",
     "text": [
      "('1', '2', '3', '4', '5', '6', '7', '8', '9', '10')\n"
     ]
    }
   ],
   "source": [
    "# Ans.: \n",
    "s1 = [1,2,3,4,5,6,7,8,9,10]\n",
    "s2 = tuple(map(lambda x: str(x), s1))\n",
    "print(s2)"
   ]
  },
  {
   "cell_type": "markdown",
   "id": "e43d4021-3998-4db2-a41e-697e165b4015",
   "metadata": {},
   "source": [
    "Q.4: Write a python program using reduce function to compute the product of a list containing numbers from 1 to 25."
   ]
  },
  {
   "cell_type": "code",
   "execution_count": 46,
   "id": "21f06dfb-90e4-4764-a222-7ffbed1a7fad",
   "metadata": {},
   "outputs": [
    {
     "name": "stdout",
     "output_type": "stream",
     "text": [
      "15511210043330985984000000\n"
     ]
    }
   ],
   "source": [
    "# Ans.:\n",
    "    \n",
    "numbers = [i for i in range(1,26)]\n",
    "\n",
    "# numbers_1 = product of the given numbers\n",
    "\n",
    "from functools import reduce\n",
    "\n",
    "numbers_1 = reduce(lambda x,y : x*y, numbers)\n",
    "\n",
    "print(numbers_1)"
   ]
  },
  {
   "cell_type": "markdown",
   "id": "a520e8e9-36f0-41c2-ac3c-0d6153e8f67b",
   "metadata": {},
   "source": [
    "Q.5: Write a python program to filter the numbers in a given list that are divisible by 2 and 3 using the filter function.\n",
    "\n",
    "[2,3,6,9,27,60,90,120,55,46]"
   ]
  },
  {
   "cell_type": "code",
   "execution_count": 55,
   "id": "d606de46-0fcf-442b-8b99-e8bf16f77703",
   "metadata": {},
   "outputs": [
    {
     "name": "stdout",
     "output_type": "stream",
     "text": [
      "[6, 60, 90, 120]\n"
     ]
    }
   ],
   "source": [
    "# Ans.:\n",
    "\n",
    "l3 = [2,3,6,9,27,60,90,120,55,46]\n",
    "\n",
    "l4 = list(filter(lambda x: (x%2==0) and (x%3==0), l3))\n",
    "print(l4)"
   ]
  },
  {
   "cell_type": "markdown",
   "id": "00e9c86c-d6a6-4bb8-aea0-ecfea78eada6",
   "metadata": {},
   "source": [
    "Q.6: Write a python program to find palindromes in the given list of strings using lambda and filter funtion.\n",
    "\n",
    "['python', 'php', 'aba', 'radar', 'level']"
   ]
  },
  {
   "cell_type": "code",
   "execution_count": 61,
   "id": "0ba4d1d8-451e-465f-b027-805fde9a0082",
   "metadata": {},
   "outputs": [
    {
     "name": "stdout",
     "output_type": "stream",
     "text": [
      "['php', 'aba', 'radar', 'level']\n"
     ]
    }
   ],
   "source": [
    "l5 = ['python', 'php', 'aba', 'radar', 'level']\n",
    "\n",
    "palindromes = list(filter(lambda x : x == x[::-1], l5))\n",
    "\n",
    "print(palindromes)"
   ]
  },
  {
   "cell_type": "code",
   "execution_count": null,
   "id": "ec3fb96f-8d14-42b6-96da-c1c1b38c2391",
   "metadata": {},
   "outputs": [],
   "source": []
  }
 ],
 "metadata": {
  "kernelspec": {
   "display_name": "Python 3 (ipykernel)",
   "language": "python",
   "name": "python3"
  },
  "language_info": {
   "codemirror_mode": {
    "name": "ipython",
    "version": 3
   },
   "file_extension": ".py",
   "mimetype": "text/x-python",
   "name": "python",
   "nbconvert_exporter": "python",
   "pygments_lexer": "ipython3",
   "version": "3.10.8"
  }
 },
 "nbformat": 4,
 "nbformat_minor": 5
}
