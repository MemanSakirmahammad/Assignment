{
 "cells": [
  {
   "cell_type": "markdown",
   "id": "be57d4ba-cdac-493d-ab29-5a309cf013b8",
   "metadata": {},
   "source": [
    "5th feb assignment:\n",
    "-------------------"
   ]
  },
  {
   "cell_type": "markdown",
   "id": "59231f52-5331-402f-8b05-68d1ddfa410e",
   "metadata": {},
   "source": [
    "Q.1: Explain Class and Object with respect to Object-Oriented Programming. Give a suitable example."
   ]
  },
  {
   "cell_type": "markdown",
   "id": "8801e631-e5c5-4b36-b3aa-b0291fc83be2",
   "metadata": {},
   "source": [
    "Ans.:\n",
    "In Object-Oriented Programming (OOP), a class is a blueprint or a template that defines the attributes and methods of an object. It defines the properties and behaviour of objects of a certain type. An object, on the other hand, is an instance of a class that has its own unique set of attributes and values for those attributes. Objects are created from classes, and each object can have its own values for the attributes defined by the class."
   ]
  },
  {
   "cell_type": "code",
   "execution_count": 1,
   "id": "16180c68-0293-49d8-ac9d-855a2d275453",
   "metadata": {},
   "outputs": [],
   "source": [
    "# Example:\n",
    "\n",
    "class Scientist_Academy:\n",
    "    \n",
    "    def __init__(self, subject, phone_number, teacher_id):\n",
    "        self.subject = subject\n",
    "        self.phone_number = phone_number\n",
    "        self.teacher_id = teacher_id\n",
    "        \n",
    "    def return_student_details(self):\n",
    "        return (f\"Hii, I am teacher of {self.subject} and my teacher_id is {self.teacher_id}.\")\n"
   ]
  },
  {
   "cell_type": "code",
   "execution_count": 2,
   "id": "4005954e-12ff-4d8d-ba40-708b72d3beba",
   "metadata": {},
   "outputs": [],
   "source": [
    "Rafiq_sir = Scientist_Academy(\"biology\", 7897897890, 101)\n",
    "Noor_sir = Scientist_Academy(\"physics\", 1234567890, 102)\n",
    "Dilawar_sir = Scientist_Academy(\"chemistry\", 1231231230, 103)\n",
    "Asim_sir = Scientist_Academy(\"mathematics\", 4564564560, 104)\n"
   ]
  },
  {
   "cell_type": "code",
   "execution_count": 3,
   "id": "34d08fdc-dd69-48c4-a8a1-ab3909201a69",
   "metadata": {},
   "outputs": [
    {
     "data": {
      "text/plain": [
       "'Hii, I am teacher of biology and my teacher_id is 101.'"
      ]
     },
     "execution_count": 3,
     "metadata": {},
     "output_type": "execute_result"
    }
   ],
   "source": [
    "Rafiq_sir.return_student_details()"
   ]
  },
  {
   "cell_type": "code",
   "execution_count": 4,
   "id": "38e0a590-2ebf-45cb-b0b9-a8aa7e93d0c3",
   "metadata": {},
   "outputs": [
    {
     "data": {
      "text/plain": [
       "'biology'"
      ]
     },
     "execution_count": 4,
     "metadata": {},
     "output_type": "execute_result"
    }
   ],
   "source": [
    "Rafiq_sir.subject"
   ]
  },
  {
   "cell_type": "code",
   "execution_count": 5,
   "id": "bba9c3f8-2999-4a23-97ce-e4de5797c9f5",
   "metadata": {},
   "outputs": [
    {
     "data": {
      "text/plain": [
       "101"
      ]
     },
     "execution_count": 5,
     "metadata": {},
     "output_type": "execute_result"
    }
   ],
   "source": [
    "Rafiq_sir.teacher_id"
   ]
  },
  {
   "cell_type": "markdown",
   "id": "b238a696-899b-4d27-9581-92f95a61b4aa",
   "metadata": {},
   "source": [
    "Q.2: Name the four pillars of OOPs."
   ]
  },
  {
   "cell_type": "markdown",
   "id": "53a98123-7c52-443d-a851-3bdb14345c3e",
   "metadata": {},
   "source": [
    "Ans.:\n",
    "\n",
    "The four pillars of Object-Oriented Programming (OOP) are :\n",
    "\n",
    "- Abstraction:\n",
    "\n",
    "This refers to the processof hiding the implementation details of an object and exposing only the necessary information to the users.\n",
    "\n",
    "- Encapsulation:\n",
    "\n",
    "This refers to the wrapping of data (properties) and functions (methods) into a single unit or object. It ensures that the internal representation of an object is hidden from the outside world and can only be accessed through a well-defined interface.\n",
    "\n",
    "- Inheritance:\n",
    "\n",
    "This refers to the ability of a new class to inherit the properties and behaviours of an existing class. The new class is called a subclass or derived class, and the existing class is called a superclass or base class.\n",
    "\n",
    "- Polymorphism:\n",
    "\n",
    "This refers to the ability of objects to take on multiple forms. In OOP, polymorphism is achieved through method overriding and method overloading. It allows objects of different classes to be treated as objects of the same class, enabling code reusability and making the code more flexible and easier to maintain."
   ]
  },
  {
   "cell_type": "markdown",
   "id": "29e688fd-07b6-4b03-bcaa-f9fcfcf3ec14",
   "metadata": {},
   "source": [
    "Q.3: Explain why the __init__() function is used. Give a suitable example."
   ]
  },
  {
   "cell_type": "markdown",
   "id": "39850491-ec6d-4aeb-a375-f2518087a574",
   "metadata": {},
   "source": [
    "Ans.: The '__init__()' function is a special method in python classes, also known as the constructor method. It is automatically called when an object of the class is created. The primary porpose of the '__init__()' function is to initialize the object's attributes or properties with the values passed as arguments when the object is createed."
   ]
  },
  {
   "cell_type": "code",
   "execution_count": 4,
   "id": "199a98a8-e1a7-4f7f-b0b9-19b4fec85760",
   "metadata": {},
   "outputs": [
    {
     "name": "stdout",
     "output_type": "stream",
     "text": [
      "Baleno\n",
      "Suzuki\n",
      "petrol\n",
      "2022\n"
     ]
    }
   ],
   "source": [
    "\"\"\"\n",
    "For example, \n",
    "onsider a class named Car. A car has certain atttributes like name, company, fuel type, production year. \n",
    "hen an object of the class is created, the '__init__()' method is automatically called, allowing us to set the values of these attributes at the time of object creation.\n",
    "\"\"\"\n",
    "\n",
    "class Car:\n",
    "    def __init__(self, name, company, fuel_type, production_year):\n",
    "        self.name = name\n",
    "        self.company = company\n",
    "        self.fuel_type = fuel_type\n",
    "        self.production_year = production_year\n",
    "        \n",
    "car = Car(\"Baleno\", \"Suzuki\", \"petrol\", 2022)\n",
    "\n",
    "\n",
    "\"\"\"\"\n",
    "In this example the '__init__()' method takes four arguments (name, company, fuel type, and production year) and sets their values as the attributes of the Car object.\n",
    "The values are then accessed and printed using the dot notation.\n",
    "\"\"\"\n",
    "\n",
    "print(car.name)\n",
    "print(car.company)\n",
    "print(car.fuel_type)\n",
    "print(car.production_year)\n"
   ]
  },
  {
   "cell_type": "markdown",
   "id": "e63b7dbb-e3e2-4fc6-8817-d35da934499a",
   "metadata": {},
   "source": [
    "Q.4: Why self is used in OOPs?\n",
    "\n",
    "Ans.:\n",
    "'self' represents the instances of the class. By using the 'self' we can access the methods of the class in python. It binds the attributes with the given arguments.\n",
    "\n",
    "The reason we need to use 'self' is because python does not use the @ syntax to refer to instance attributes. Python decided to do methods in a way that makes the instance to which the method belongs be passed automatically, but not received automatically: the first parameter of methods is the instance the method is called on.\n",
    "\n",
    "In more clear way you can say that 'self' has folowing characteristic-\n",
    "\n",
    "- 'self' is always pointing to current object.\n",
    "- 'self'is the first argument to be passed in Constructor and Instance method.\n",
    "- 'self' must be provided as a first parameter to the Instance method and Constructor. If you don't provide it , will cause an error.\n",
    "- 'self' is a convention and not a python keyword.\n",
    "- 'self' is parameter in Instance method and user can use another parameter name in place of it. But it is advisable to use self because it increases the readability of code, and it is also a good programming practice."
   ]
  },
  {
   "cell_type": "markdown",
   "id": "18b91664-2368-4070-9e11-9b3431f253e2",
   "metadata": {},
   "source": [
    "Q.5: What is inheritance? Give an example for each type of inheritance.\n",
    "Ans.: Inheritance is a fundamental concept in object-oriented programming that allows a class to inherit properties and methods from another class. The class that inherits from another class is called a subclass or derived class that is being inherited from is called the superclass or base class.\n",
    "\n",
    "There are four types of inheritance:\n",
    "\n",
    "1. Single Inheritance\n",
    "2. Multiple Inheritance\n",
    "3. Hierarchical Inheritance\n",
    "4. Multilevel Inheritance"
   ]
  },
  {
   "cell_type": "code",
   "execution_count": 5,
   "id": "a8a2e4ab-9581-44ba-a1cf-0535fcec0d9f",
   "metadata": {},
   "outputs": [
    {
     "name": "stdout",
     "output_type": "stream",
     "text": [
      "Fido is eating.\n",
      "Fido is barking.\n"
     ]
    }
   ],
   "source": [
    "\"\"\"\n",
    "1. Single Inheritance:\n",
    "In single inheritance, a subclass inherits properties and methods from a single superclass.\n",
    "\"\"\"\n",
    "\n",
    "# For Example, \n",
    "\n",
    "class Animal:\n",
    "    def __init__(self, name):\n",
    "        self.name = name\n",
    "        \n",
    "    def eat(self):\n",
    "        print(f\"{self.name} is eating.\")\n",
    "        \n",
    "class Dog(Animal):\n",
    "    def __init__(self, name, breed):\n",
    "        super().__init__(name)\n",
    "        self.breed = breed\n",
    "        \n",
    "    def bark(self):\n",
    "        print(f\"{self.name} is barking.\")\n",
    "        \n",
    "dog = Dog(\"Fido\", \"Labrador\")\n",
    "dog.eat()\n",
    "dog.bark()\n"
   ]
  },
  {
   "cell_type": "code",
   "execution_count": 8,
   "id": "fce2ed88-68a7-45d2-880d-f380c06de33a",
   "metadata": {},
   "outputs": [
    {
     "name": "stdout",
     "output_type": "stream",
     "text": [
      "I am flying.\n",
      "I am swimming.\n"
     ]
    }
   ],
   "source": [
    "\"\"\"\n",
    "2. Multiple Inheritance:\n",
    "In Multiple inheritance, a subclass inherits properties and methods from a Multiple superclass.\n",
    "\"\"\"\n",
    "\n",
    "# For Example, \n",
    "\n",
    "class Flyer:\n",
    "    def fly(self):\n",
    "        print(\"I am flying.\")\n",
    "\n",
    "class Swimmer:\n",
    "    def swim(self):\n",
    "        print(\"I am swimming.\")\n",
    "class Duck(Flyer, Swimmer):\n",
    "    pass\n",
    "\n",
    "duck = Duck()\n",
    "\n",
    "duck.fly()\n",
    "duck.swim()"
   ]
  },
  {
   "cell_type": "code",
   "execution_count": 15,
   "id": "919598ae-89b0-44f8-8ecc-1761676b3313",
   "metadata": {},
   "outputs": [
    {
     "name": "stdout",
     "output_type": "stream",
     "text": [
      "25\n",
      "12\n"
     ]
    }
   ],
   "source": [
    "\"\"\"\n",
    "3. Hierarchical Inheritance:\n",
    "In Hierarchical inheritance, multiple subclasses inherit from a single superclass.\n",
    "\"\"\"\n",
    "\n",
    "# For Example, \n",
    "\n",
    "class shape:\n",
    "    def area(self):\n",
    "        pass\n",
    "    \n",
    "class square(shape):\n",
    "    def __init__(self, side):\n",
    "        self.side = side\n",
    "    \n",
    "    def area(self):\n",
    "        return self.side ** 2\n",
    "    \n",
    "class rectangle(shape):\n",
    "    def __init__(self, width, height):\n",
    "        self.width = width\n",
    "        self.height = height\n",
    "        \n",
    "    def area(self):\n",
    "        return self.width * self.height\n",
    "    \n",
    "square = square(5)\n",
    "print(square.area())\n",
    "\n",
    "rectangle = rectangle(3,4)\n",
    "\n",
    "print(rectangle.area())"
   ]
  },
  {
   "cell_type": "code",
   "execution_count": 18,
   "id": "854fbd45-bfde-4084-b9df-0a1c2d89b3fb",
   "metadata": {},
   "outputs": [
    {
     "name": "stdout",
     "output_type": "stream",
     "text": [
      "spike is eating.\n",
      "spike is barking\n"
     ]
    }
   ],
   "source": [
    "\"\"\"\n",
    "3. Multilevel Inheritance:\n",
    "In Multilevel inheritance, a subclass inherits properites and methods from a superclass, \n",
    "which in turn inherits properties and methods from its own superclass.\n",
    "\"\"\"\n",
    "\n",
    "# For Example:\n",
    "\n",
    "class Animal:\n",
    "    def __init__(self, name):\n",
    "        self.name = name\n",
    "    \n",
    "    def eat(self):\n",
    "        print(f\"{self.name} is eating.\")\n",
    "        \n",
    "class Dog(Animal):\n",
    "    def __init__(self, name, breed):\n",
    "        super().__init__(name)\n",
    "        self.breed = breed\n",
    "        \n",
    "    def bark(self):\n",
    "        print(f\"{self.name} is barking\")\n",
    "        \n",
    "class Bulldog(Dog):\n",
    "    def __init__(self, name):\n",
    "        super().__init__(name, \"Bulldog\")\n",
    "        \n",
    "bulldog = Bulldog(\"spike\")\n",
    "bulldog.eat()\n",
    "bulldog.bark()"
   ]
  },
  {
   "cell_type": "code",
   "execution_count": null,
   "id": "f2ee97a5-760c-4392-a775-f529520c75dd",
   "metadata": {},
   "outputs": [],
   "source": []
  }
 ],
 "metadata": {
  "kernelspec": {
   "display_name": "Python 3 (ipykernel)",
   "language": "python",
   "name": "python3"
  },
  "language_info": {
   "codemirror_mode": {
    "name": "ipython",
    "version": 3
   },
   "file_extension": ".py",
   "mimetype": "text/x-python",
   "name": "python",
   "nbconvert_exporter": "python",
   "pygments_lexer": "ipython3",
   "version": "3.10.8"
  }
 },
 "nbformat": 4,
 "nbformat_minor": 5
}
