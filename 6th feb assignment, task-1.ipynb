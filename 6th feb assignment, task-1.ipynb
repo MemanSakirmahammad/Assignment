{
 "cells": [
  {
   "cell_type": "markdown",
   "id": "3d54510a-d888-4563-92f1-6dcd40fbd2f6",
   "metadata": {},
   "source": [
    "6th feb Assignment, Task-1:\n",
    "---------------------------"
   ]
  },
  {
   "cell_type": "markdown",
   "id": "f58ca14a-2433-45cf-bc9a-af1d53791735",
   "metadata": {},
   "source": [
    "Q.1: Create a function which will take a list as an argument and return the product of all the numbers after creating a flat list.\n",
    "Use the below-given list as an argument for your function.\n",
    "\n",
    "list1 = [1,2,3,4, [44,55,66,True], False, (34,56, 78, 89, 34), {1,2,3,3,2,1}, {1:34, \"key2\":[55,67,78,89], 4:(45, 22, 61, 34)}, [56, 'data science'], 'Machine Learning']\n",
    "\n",
    "Note: You must extract numeric keys and values of the dictionary also."
   ]
  },
  {
   "cell_type": "code",
   "execution_count": 19,
   "id": "2aded61c-6e09-411c-be33-7419f71aad20",
   "metadata": {},
   "outputs": [
    {
     "name": "stdout",
     "output_type": "stream",
     "text": [
      "[1, 2, 3, 4, 44, 55, 66, True, False, 34, 56, 78, 89, 34, 1, 2, 3, 1, 34, 4, 56, 'data science', 'Machine Learning']\n"
     ]
    }
   ],
   "source": [
    "# First we create flat list\n",
    "\n",
    "list1 = [1,2,3,4, [44,55,66,True], False, (34,56, 78, 89, 34), {1,2,3,3,2,1}, {1:34, \"key2\":[55,67,78,89], 4:(45, 22, 61, 34)}, [56, 'data science'], 'Machine Learning']\n",
    "\n",
    "def flatten(lst):\n",
    "    flat_list = []\n",
    "    for item in lst:\n",
    "        if type(item) == list or type(item) == tuple or type(item) == set:\n",
    "            flat_list.extend(flatten(item))\n",
    "        elif type(item) == dict:\n",
    "            for key, value in item.items():\n",
    "                if type(key) == int or type(key) == float:\n",
    "                    flat_list.append(key)\n",
    "                if type(value) == int or type(value) == float:\n",
    "                    flat_list.append(value)\n",
    "        else:\n",
    "            flat_list.append(item)\n",
    "            \n",
    "    return flat_list\n",
    "flat_list = flatten(list1)\n",
    "list2 = flat_list\n",
    "print(list2)"
   ]
  },
  {
   "cell_type": "code",
   "execution_count": 22,
   "id": "3e8be7d0-7025-4b0d-9426-f990015979ec",
   "metadata": {},
   "outputs": [
    {
     "name": "stdout",
     "output_type": "stream",
     "text": [
      "78718933113238978560\n"
     ]
    }
   ],
   "source": [
    "# Now we return the product of all the numbers from this flat_list\n",
    "\n",
    "list2 = [1, 2, 3, 4, 44, 55, 66, True, False, 34, 56, 78, 89, 34, 1, 2, 3, 1, 34, 4, 56, 'data science', 'Machine Learning']\n",
    "\n",
    "def product_of_numbers(lst):\n",
    "    product = 1\n",
    "    for item in lst:\n",
    "        if type(item) == int or type(item) == float:\n",
    "            product *= item\n",
    "        elif type(item) == list or type(item) == tuple or type(item) == set:\n",
    "            product *= product_of_numbers(item)\n",
    "        elif type(item) == dict:\n",
    "            for key, value in item.items():\n",
    "                if type(key) == int or type(key) == float:\n",
    "                    product *= key\n",
    "                if type(value) == int or type(value) == float:\n",
    "                    product *= value\n",
    "    return product\n",
    "result = product_of_numbers(list2)\n",
    "print(result)"
   ]
  },
  {
   "cell_type": "markdown",
   "id": "4588bfc1-6e20-4ab8-83b2-fdb912702a61",
   "metadata": {},
   "source": [
    "Q.2: Write a python program for encrypting a message sent to you by your friend. The logic of encryption should be such that, for a, the output should be z. for b, the output should be y. for c, the output should be x respectively. Also, the whitespace sholud be replaced with a dollar sign. Keep the punctuation marks unchanged.\n",
    "\n",
    "Input Sentence: I want to become a Data Scientist.\n",
    "\n",
    "Encrypt the above input sentence using the program you just created.\n",
    "\n",
    "Note: Convert the given input sentence into lowercase before encrypting. The final ouput should be lowercase.\n",
    "\n"
   ]
  },
  {
   "cell_type": "code",
   "execution_count": 18,
   "id": "cf3a6982-5e38-40c2-a897-328d08567d23",
   "metadata": {},
   "outputs": [],
   "source": [
    "# Ans.:\n",
    "\n",
    "def encrypt_message(message):\n",
    "    message = message.lower()\n",
    "    encryption_dict = {\n",
    "        'a': 'z', 'b': 'y', 'c': 'x', 'd': 'w', 'e': 'v', 'f':'u',\n",
    "        'g': 't', 'h': 's', 'i': 'r', 'j': 'q', 'k': 'p', 'l': 'o',\n",
    "        'm': 'n', 'n': 'm', 'o': 'l', 'p': 'k', 'q': 'j', 'r': 'i',\n",
    "        's': 'h', 't': 'g', 'u': 'f', 'v': 'e', 'w': 'd', 'x': 'c',\n",
    "        'y': 'b', 'z': 'a', ' ': '%'}\n",
    "    \n",
    "    encrypted_message = ''\n",
    "    for char in message:\n",
    "        if char in encryption_dict:\n",
    "            encrypted_message += encryption_dict[char]\n",
    "        else:\n",
    "            encrypted_message += char\n",
    "    return encrypted_message"
   ]
  },
  {
   "cell_type": "code",
   "execution_count": 19,
   "id": "4298617b-2bd0-4fc7-8896-1c9b505a40d1",
   "metadata": {},
   "outputs": [
    {
     "name": "stdout",
     "output_type": "stream",
     "text": [
      "r%dzmg%gl%yvxlnv%z%wzgz%hxrvmgrhg.\n"
     ]
    }
   ],
   "source": [
    "input_sentence = \"i want to become a Data Scientist.\"\n",
    "encrypted_sentence = encrypt_message(input_sentence)\n",
    "print(encrypted_sentence)"
   ]
  },
  {
   "cell_type": "code",
   "execution_count": null,
   "id": "f746481c-062e-464b-bf55-ef6e4cab015e",
   "metadata": {},
   "outputs": [],
   "source": []
  }
 ],
 "metadata": {
  "kernelspec": {
   "display_name": "Python 3 (ipykernel)",
   "language": "python",
   "name": "python3"
  },
  "language_info": {
   "codemirror_mode": {
    "name": "ipython",
    "version": 3
   },
   "file_extension": ".py",
   "mimetype": "text/x-python",
   "name": "python",
   "nbconvert_exporter": "python",
   "pygments_lexer": "ipython3",
   "version": "3.10.8"
  }
 },
 "nbformat": 4,
 "nbformat_minor": 5
}
