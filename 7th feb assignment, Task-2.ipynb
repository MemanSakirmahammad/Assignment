{
 "cells": [
  {
   "cell_type": "markdown",
   "id": "6ef7d1bd-ef15-46c9-8ab8-d6885f6d598e",
   "metadata": {},
   "source": [
    "7th feb assignment, Task-2:\n",
    "--------------------------"
   ]
  },
  {
   "cell_type": "markdown",
   "id": "f6dcf315-29a4-4077-a33d-d1da9c951532",
   "metadata": {},
   "source": [
    "Q.1 You are writing code for a company. The requirement of the company is that you create a python function that will check whether the passward entered by the user is correct or not. The function should take the passward as input and return the string \"Valid passward\" if the entered passward follows the below-given passward guidelines else it should return \"Invalid Passward\"\n",
    "\n",
    "-Note:\n",
    "1. The Passward should contain at least two uppercase letters and at least two lowercase letters.\n",
    "2. The Passward should contain at least a number and three special characters.\n",
    "3. The length of the passward should be 10 characters long.\n",
    "\n"
   ]
  },
  {
   "cell_type": "code",
   "execution_count": 1,
   "id": "68239215-47be-4ac9-b054-453d7ff19ab7",
   "metadata": {},
   "outputs": [],
   "source": [
    "# Ans.:\n",
    "\n",
    "def check_passward(passward):\n",
    "    u,d,l,sp = 0, 0, 0, 0\n",
    "    for a in passward:\n",
    "        if a.isupper() == True:\n",
    "            u+=1\n",
    "        elif a.islower() == True:\n",
    "            l+=1\n",
    "        elif a.isdigit() == True:\n",
    "            d+=1\n",
    "        elif a.isalnum() == False:\n",
    "            sp+=1\n",
    "    if u>=2 and l>=2 and d>=1 and sp>=3 and len(passward) == 10:\n",
    "        return \"Valid Passward\"\n",
    "    else:\n",
    "        return \"Invalid Passward\"\n"
   ]
  },
  {
   "cell_type": "code",
   "execution_count": 2,
   "id": "0a37e754-a197-4d88-8f91-c88e36976092",
   "metadata": {},
   "outputs": [
    {
     "name": "stdout",
     "output_type": "stream",
     "text": [
      "Valid Passward\n"
     ]
    }
   ],
   "source": [
    "print(check_passward(\"SPemon1@%&\"))"
   ]
  },
  {
   "cell_type": "code",
   "execution_count": 3,
   "id": "3260ec4a-6d72-43ad-9a5b-c7bba745bc8d",
   "metadata": {},
   "outputs": [
    {
     "name": "stdout",
     "output_type": "stream",
     "text": [
      "Invalid Passward\n"
     ]
    }
   ],
   "source": [
    "print(check_passward(\"spemon1@%&\"))"
   ]
  },
  {
   "cell_type": "markdown",
   "id": "4dfb9e99-5dd6-4a98-84ae-c8242757d6e5",
   "metadata": {},
   "source": [
    "Q.2: Solve the below-given questions using at least one of the following:\n",
    " 1. Lambda function\n",
    " 2. Filter function\n",
    " 3. Map function\n",
    " 4. List Comprehension\n",
    " \n",
    " - Check is the string starts with a particular letter.\n",
    " - Check if the string is numeric.\n",
    " - Sort a list of tuples having fruit names and their quantity. [(\"mango\", 99), (\"orange\", 80), (\"grapes\", 1000)]\n",
    " - Find the squares of numbers from 1 to 10.\n",
    " - Find the cube root of numbers from 1 to 10.\n",
    " - Check if a given number is even.\n",
    " - Filter odd numbers from the given list.\n",
    "     [1,2,3,4,5,6,7,8,9,10]\n",
    " - Sort a list of integers into positive and negative integers lists.\n",
    "     [1,2,3,4,5,6,-1,-2,-3,-4,-5,0]"
   ]
  },
  {
   "cell_type": "code",
   "execution_count": 43,
   "id": "3b45a590-7666-4f08-a248-806554fcaf95",
   "metadata": {},
   "outputs": [
    {
     "data": {
      "text/plain": [
       "True"
      ]
     },
     "execution_count": 43,
     "metadata": {},
     "output_type": "execute_result"
    }
   ],
   "source": [
    "# Ans.:\n",
    "# Check is the string starts with a particular letter.\n",
    "string_check = lambda string : True if string.lower().startswith('s') == True else False\n",
    "\n",
    "string_check('Sakir')"
   ]
  },
  {
   "cell_type": "code",
   "execution_count": 48,
   "id": "daa03a8e-8867-4fb0-9584-7d11acc33f7f",
   "metadata": {},
   "outputs": [
    {
     "data": {
      "text/plain": [
       "True"
      ]
     },
     "execution_count": 48,
     "metadata": {},
     "output_type": "execute_result"
    }
   ],
   "source": [
    "# Check if the string is numric\n",
    "string_check = lambda string : True if string.isnumeric() == True else False\n",
    "\n",
    "string_check('12345')"
   ]
  },
  {
   "cell_type": "code",
   "execution_count": 70,
   "id": "4a35be4b-0c85-44b0-a6a7-f1d640524456",
   "metadata": {},
   "outputs": [
    {
     "name": "stdout",
     "output_type": "stream",
     "text": [
      "[('orange', 80), ('mango', 99), ('grapes', 1000)]\n"
     ]
    }
   ],
   "source": [
    "# Sort a list of tuples having fruit names and their quantity.\n",
    "# [(\"mango\", 99), (\"orange\", 80), (\"grapes\", 1000)]\n",
    "\n",
    "lst1 =  [(\"mango\", 99), (\"orange\", 80), (\"grapes\", 1000)]\n",
    "sort = sorted(lst1, key = lambda x : x[1])\n",
    "print(sort)"
   ]
  },
  {
   "cell_type": "code",
   "execution_count": 109,
   "id": "4e591a21-43fc-4ff0-b515-1b9f56301bbc",
   "metadata": {},
   "outputs": [
    {
     "data": {
      "text/plain": [
       "[1, 4, 9, 16, 25, 36, 49, 64, 81, 100]"
      ]
     },
     "execution_count": 109,
     "metadata": {},
     "output_type": "execute_result"
    }
   ],
   "source": [
    "# Find the squares of numbers from 1 to 10\n",
    "lst2 = [i for i in range(1,11)]\n",
    "list(map(lambda x: x**2, lst2))"
   ]
  },
  {
   "cell_type": "code",
   "execution_count": 111,
   "id": "ba389488-2c5b-48f6-91f6-41715de29b97",
   "metadata": {},
   "outputs": [
    {
     "data": {
      "text/plain": [
       "[1.0,\n",
       " 1.2599210498948732,\n",
       " 1.4422495703074083,\n",
       " 1.5874010519681994,\n",
       " 1.7099759466766968,\n",
       " 1.8171205928321397,\n",
       " 1.912931182772389,\n",
       " 2.0,\n",
       " 2.080083823051904,\n",
       " 2.154434690031884]"
      ]
     },
     "execution_count": 111,
     "metadata": {},
     "output_type": "execute_result"
    }
   ],
   "source": [
    "# Find the cube roots of numbers from 1 to 10\n",
    "lst3 = [i for i in range(1,11)]\n",
    "list(map(lambda x: x**(1/3), lst3))"
   ]
  },
  {
   "cell_type": "code",
   "execution_count": 106,
   "id": "a8ed5e37-540a-4bd4-a159-241b59bfe7e4",
   "metadata": {},
   "outputs": [
    {
     "name": "stdin",
     "output_type": "stream",
     "text": [
      "Enter your numbers:- 10\n"
     ]
    },
    {
     "data": {
      "text/plain": [
       "'Even'"
      ]
     },
     "execution_count": 106,
     "metadata": {},
     "output_type": "execute_result"
    }
   ],
   "source": [
    "# Check if given numbers is even\n",
    "n = int(input(\"Enter your numbers:-\"))\n",
    "numbers_check = lambda n : \"Even\" if n%2 == 0 else \"Not even\"\n",
    "numbers_check(n)"
   ]
  },
  {
   "cell_type": "code",
   "execution_count": 112,
   "id": "44fd0bac-0e56-4851-9190-0e4815bcf121",
   "metadata": {},
   "outputs": [
    {
     "data": {
      "text/plain": [
       "[1, 3, 5, 7, 9]"
      ]
     },
     "execution_count": 112,
     "metadata": {},
     "output_type": "execute_result"
    }
   ],
   "source": [
    "lst4 = [i for i in range(1,11)]\n",
    "list(filter(lambda x: x%2!= 0, lst4))"
   ]
  },
  {
   "cell_type": "code",
   "execution_count": 121,
   "id": "edf96630-3a43-4c77-9570-4870d3b0c29f",
   "metadata": {},
   "outputs": [
    {
     "name": "stdout",
     "output_type": "stream",
     "text": [
      "Positive: Integer: [1, 2, 3, 4, 5, 6]\n",
      "Negative: Integer: [-1, -2, -3, -4, -5]\n"
     ]
    }
   ],
   "source": [
    "# Sort a list of integers into positive and negative integers lists.\n",
    "lst5 = [1,2,3,4,5,6,-1,-2,-3,-4,-5,0]\n",
    "\n",
    "positive_list = list(filter(lambda x: x>0, lst5))\n",
    "print(\"Positive: Integer:\", positive_list)\n",
    "\n",
    "negative_list = list(filter(lambda x: x<0, lst5))\n",
    "print(\"Negative: Integer:\", negative_list)"
   ]
  },
  {
   "cell_type": "code",
   "execution_count": null,
   "id": "2d4affa8-acd5-4b5d-8760-f9ed19d2fbc5",
   "metadata": {},
   "outputs": [],
   "source": []
  }
 ],
 "metadata": {
  "kernelspec": {
   "display_name": "Python 3 (ipykernel)",
   "language": "python",
   "name": "python3"
  },
  "language_info": {
   "codemirror_mode": {
    "name": "ipython",
    "version": 3
   },
   "file_extension": ".py",
   "mimetype": "text/x-python",
   "name": "python",
   "nbconvert_exporter": "python",
   "pygments_lexer": "ipython3",
   "version": "3.10.8"
  }
 },
 "nbformat": 4,
 "nbformat_minor": 5
}
